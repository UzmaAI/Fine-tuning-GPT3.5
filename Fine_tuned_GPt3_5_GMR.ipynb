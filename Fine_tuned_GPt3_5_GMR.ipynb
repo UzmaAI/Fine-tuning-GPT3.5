{
  "nbformat": 4,
  "nbformat_minor": 0,
  "metadata": {
    "colab": {
      "provenance": []
    },
    "kernelspec": {
      "name": "python3",
      "display_name": "Python 3"
    },
    "language_info": {
      "name": "python"
    }
  },
  "cells": [
    {
      "cell_type": "code",
      "source": [
        "fine_tuned_model_id = 'ft:gpt-3.5-turbo-0613:arthink-ai:gmr-intent:8g961QBn'"
      ],
      "metadata": {
        "id": "fR8RpYwIPqQw"
      },
      "execution_count": null,
      "outputs": []
    },
    {
      "cell_type": "code",
      "source": [
        "#-------Testing the Fine-tuned Model-------------------\n",
        "from sklearn.metrics import accuracy_score, precision_score, recall_score, f1_score\n",
        "\n",
        "def format_test(row):\n",
        "    formatted_message = [{\"role\": \"user\", \"content\": row['Customer Query']}]\n",
        "    return formatted_message\n",
        "\n",
        "def predict(test_messages, fine_tuned_model_id):\n",
        "    response = client.chat.completions.create(\n",
        "        model=fine_tuned_model_id, messages=test_messages, temperature=0, max_tokens=50\n",
        "    )\n",
        "    return response.choices[0].message.content\n",
        "\n",
        "def store_predictions(test_df, fine_tuned_model_id):\n",
        "    test_df['Prediction'] = None\n",
        "    for index, row in test_df.iterrows():\n",
        "        test_message = format_test(row)\n",
        "        prediction_result = predict(test_message, fine_tuned_model_id)\n",
        "        test_df.at[index, 'Prediction'] = prediction_result\n",
        "\n",
        "    test_df.to_csv(\"predictions.csv\")\n"
      ],
      "metadata": {
        "id": "zMcGXTW_pcHp"
      },
      "execution_count": null,
      "outputs": []
    },
    {
      "cell_type": "code",
      "source": [
        "test_df = pd.read_csv(\"/content/GMR-Fine-tuning-Test.csv\")\n",
        "store_predictions(test_df,fine_tuned_model_id)"
      ],
      "metadata": {
        "id": "NKUkO4cNC3RY"
      },
      "execution_count": null,
      "outputs": []
    }
  ]
}